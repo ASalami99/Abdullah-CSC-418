{
 "cells": [
  {
   "cell_type": "markdown",
   "id": "764ca12e-9b66-4769-8273-ff1c8bf881ca",
   "metadata": {},
   "source": [
    "## Image Blurring"
   ]
  },
  {
   "cell_type": "code",
   "execution_count": null,
   "id": "c8558058-988f-41bb-a9ed-2331e76d4c03",
   "metadata": {},
   "outputs": [],
   "source": [
    "import cv2"
   ]
  },
  {
   "cell_type": "code",
   "execution_count": null,
   "id": "d133df08-3986-4501-993c-1216ba8a8b68",
   "metadata": {},
   "outputs": [],
   "source": [
    "image = cv2.imread('img/sst.jpg')\n",
    "\n",
    "cv2.imshow('Original Image', image)\n",
    "cv2.waitKey(0)\n",
    "\n",
    "#Gaussian Blur\n",
    "Gaussian = cv2.GaussianBlur(image, (7, 7), 0)\n",
    "cv2.imshow('Gaussian Blurring', Gaussian)\n",
    "cv2.waitKey(0)\n",
    "\n",
    "#Median Blur\n",
    "Median = cv2.medianBlur(image, 5)\n",
    "cv2.imshow('Median Blur', Gaussian)\n",
    "cv2.waitKey(0)\n",
    "\n",
    "#Bilateral Blur\n",
    "Gaussian = cv2.bilateralFilter(image, 9, 75, 75)\n",
    "cv2.imshow('Bilateral Blurring', Gaussian)\n",
    "cv2.waitKey(0)\n",
    "\n",
    "cv2.destroyAllWindows"
   ]
  },
  {
   "cell_type": "code",
   "execution_count": null,
   "id": "3ca48dbe-f0cf-42ec-986c-87ec923739a8",
   "metadata": {},
   "outputs": [],
   "source": []
  }
 ],
 "metadata": {
  "kernelspec": {
   "display_name": "Python 3 (ipykernel)",
   "language": "python",
   "name": "python3"
  },
  "language_info": {
   "codemirror_mode": {
    "name": "ipython",
    "version": 3
   },
   "file_extension": ".py",
   "mimetype": "text/x-python",
   "name": "python",
   "nbconvert_exporter": "python",
   "pygments_lexer": "ipython3",
   "version": "3.12.7"
  }
 },
 "nbformat": 4,
 "nbformat_minor": 5
}
