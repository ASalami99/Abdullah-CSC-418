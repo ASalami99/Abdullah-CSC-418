{
 "cells": [
  {
   "cell_type": "markdown",
   "id": "7e46a99a-2dae-4814-b155-85e4bd77941d",
   "metadata": {},
   "source": [
    "## Image Rotation"
   ]
  },
  {
   "cell_type": "code",
   "execution_count": null,
   "id": "8b649694-3aa0-45e0-a8a7-532c15d6ac5e",
   "metadata": {},
   "outputs": [],
   "source": [
    "import numpy as np\n",
    "import matplotlib.pyplot as plt\n",
    "import cv2 as cv"
   ]
  },
  {
   "cell_type": "code",
   "execution_count": null,
   "id": "4728a72f-5a18-4f22-99e9-1f3c197f43a5",
   "metadata": {},
   "outputs": [],
   "source": [
    "img = cv.imread('img/sst.jpg', 0)\n",
    "rows, cols = img.shape\n",
    "\n",
    "#Plot the original image\n",
    "plt.subplot(1, 2, 1)\n",
    "plt.title(\"Original\")\n",
    "plt.imshow(img)\n",
    "\n",
    "rotated_img = cv.warpAffine(img, cv.getRotationMatrix2D((cols/2, rows/2), 30, 0.6), (cols, rows))\n",
    "\n",
    "#Plot the rotated image\n",
    "plt.subplot(1, 2, 2)\n",
    "plt.title(\"Rotated Image\")\n",
    "plt.imshow(rotated_img)\n",
    "\n",
    "#Save rotated image\n",
    "cv.imshow('img', rotated_img)\n",
    "cv.imwrite('img/rotation_out.jpg', rotated_img)\n",
    "\n",
    "cv.waitKey(0)\n",
    "cv.destroyAllWindows()"
   ]
  },
  {
   "cell_type": "code",
   "execution_count": null,
   "id": "2db5976b-1c24-4b2d-93d4-b87e7a5d46a3",
   "metadata": {},
   "outputs": [],
   "source": []
  }
 ],
 "metadata": {
  "kernelspec": {
   "display_name": "Python 3 (ipykernel)",
   "language": "python",
   "name": "python3"
  },
  "language_info": {
   "codemirror_mode": {
    "name": "ipython",
    "version": 3
   },
   "file_extension": ".py",
   "mimetype": "text/x-python",
   "name": "python",
   "nbconvert_exporter": "python",
   "pygments_lexer": "ipython3",
   "version": "3.12.7"
  }
 },
 "nbformat": 4,
 "nbformat_minor": 5
}
