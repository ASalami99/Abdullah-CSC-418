{
 "cells": [
  {
   "cell_type": "code",
   "execution_count": null,
   "id": "560907b5-9ef7-4227-8f93-27c983b85638",
   "metadata": {},
   "outputs": [],
   "source": [
    "import cv2\n",
    "import numpy as np"
   ]
  },
  {
   "cell_type": "code",
   "execution_count": null,
   "id": "e9a9a1d6-4d55-4651-a0fb-d90467223e7a",
   "metadata": {},
   "outputs": [],
   "source": [
    "#Load the image\n",
    "image = cv2.imread('img/Clement.jpg', cv2.IMREAD_GRAYSCALE)\n",
    "\n",
    "#Resize Images\n",
    "image = cv2.resize(image, (400, 400))\n",
    "\n",
    "#Apply Canny Edge detection\n",
    "edges = cv2.Canny(image, 100, 200) #Adjust the threshold as needed\n",
    "\n",
    "#Display the original image and the Prewitt Edges\n",
    "cv2.imshow('Original', image)\n",
    "cv2.imshow('Edges', edges)\n",
    "\n",
    "#Wait for a key press and then close all windows\n",
    "cv2.waitKey(0)\n",
    "cv2.destroyAllWindows()"
   ]
  }
 ],
 "metadata": {
  "kernelspec": {
   "display_name": "Python 3 (ipykernel)",
   "language": "python",
   "name": "python3"
  },
  "language_info": {
   "codemirror_mode": {
    "name": "ipython",
    "version": 3
   },
   "file_extension": ".py",
   "mimetype": "text/x-python",
   "name": "python",
   "nbconvert_exporter": "python",
   "pygments_lexer": "ipython3",
   "version": "3.12.7"
  }
 },
 "nbformat": 4,
 "nbformat_minor": 5
}
