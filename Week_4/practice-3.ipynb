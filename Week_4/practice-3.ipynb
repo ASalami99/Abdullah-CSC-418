{
 "cells": [
  {
   "cell_type": "markdown",
   "id": "bb5cfc64-fdea-495e-9f96-ef201e170df7",
   "metadata": {},
   "source": [
    "## Robert Operator"
   ]
  },
  {
   "cell_type": "code",
   "execution_count": 1,
   "id": "5f4f88f8-a762-4d10-a28b-85a6bfbc4a8f",
   "metadata": {},
   "outputs": [],
   "source": [
    "import cv2\n",
    "import numpy as np"
   ]
  },
  {
   "cell_type": "code",
   "execution_count": null,
   "id": "8f553b9f-6f04-4e98-9213-95bf7adf4b51",
   "metadata": {},
   "outputs": [],
   "source": [
    "#Load the image\n",
    "image = cv2.imread('img/Ada.jpg', cv2.IMREAD_GRAYSCALE)\n",
    "\n",
    "#Perform Guasian Blur\n",
    "image = cv2.GaussianBlur(image, (5, 5), 0)\n",
    "\n",
    "#Define Robert Kernels\n",
    "kernel_x = np.array([[1, 0],\n",
    "                    [0, -1]])\n",
    "\n",
    "kernel_y = np.array([[ 0, 1],\n",
    "                    [-1, 0]])\n",
    "\n",
    "#Apply Robert Edge detection\n",
    "robert_x = cv2.filter2D(image, -1, kernel_x)\n",
    "robert_y = cv2.filter2D(image, -1, kernel_y)\n",
    "\n",
    "#Combine the gradient images\n",
    "robert_combined = np.sqrt(np.square(robert_x) + np.square(robert_y))\n",
    "\n",
    "#Display the original image and the Prewitt Edges\n",
    "cv2.imshow('Original', image)\n",
    "cv2.imshow('Robert Edges', np.uint8(robert_combined))\n",
    "\n",
    "#Wait for a key press and then close all windows\n",
    "cv2.waitKey(0)\n",
    "cv2.destroyAllWindows()"
   ]
  },
  {
   "cell_type": "code",
   "execution_count": null,
   "id": "ba108f20-aff1-4c97-b3f3-e7829a97df78",
   "metadata": {},
   "outputs": [],
   "source": []
  }
 ],
 "metadata": {
  "kernelspec": {
   "display_name": "Python 3 (ipykernel)",
   "language": "python",
   "name": "python3"
  },
  "language_info": {
   "codemirror_mode": {
    "name": "ipython",
    "version": 3
   },
   "file_extension": ".py",
   "mimetype": "text/x-python",
   "name": "python",
   "nbconvert_exporter": "python",
   "pygments_lexer": "ipython3",
   "version": "3.12.7"
  }
 },
 "nbformat": 4,
 "nbformat_minor": 5
}
