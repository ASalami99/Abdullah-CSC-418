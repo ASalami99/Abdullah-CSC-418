{
 "cells": [
  {
   "cell_type": "markdown",
   "id": "3834cf87-eb9e-4f64-9d40-4a02e20a5208",
   "metadata": {},
   "source": [
    "## Sobel Operator"
   ]
  },
  {
   "cell_type": "code",
   "execution_count": null,
   "id": "510fe29e-8d3f-444a-8c73-0ed4df514a4e",
   "metadata": {},
   "outputs": [],
   "source": [
    "import cv2\n",
    "import numpy as np"
   ]
  },
  {
   "cell_type": "code",
   "execution_count": null,
   "id": "40fb55c4-97a7-49f6-b3fc-d25988edf532",
   "metadata": {},
   "outputs": [],
   "source": [
    "#Load the image\n",
    "image = cv2.imread('img/Abdullah.jpg' , cv2.IMREAD_GRAYSCALE)\n",
    "\n",
    "#Resizing the images\n",
    "image = cv2.resize(image, (500, 400))\n",
    "\n",
    "#Apply Sobel Edge detection\n",
    "sobel_x = cv2.Sobel(image, cv2.CV_64F, 1, 0, ksize=3)\n",
    "sobel_y = cv2.Sobel(image, cv2.CV_64F, 0, 1, ksize=3)\n",
    "\n",
    "#Combine the gradient images\n",
    "sobel_combined = cv2.magnitude(sobel_x, sobel_y)\n",
    "\n",
    "#Display the original image and the Sobel Edges\n",
    "cv2.imshow('Original', image)\n",
    "cv2.imshow('Sobel Edges', np.uint8(sobel_combined))\n",
    "\n",
    "#Wait for a key press and then close all windows\n",
    "cv2.waitKey(0)\n",
    "cv2.destroyAllWindows()"
   ]
  }
 ],
 "metadata": {
  "kernelspec": {
   "display_name": "Python 3 (ipykernel)",
   "language": "python",
   "name": "python3"
  },
  "language_info": {
   "codemirror_mode": {
    "name": "ipython",
    "version": 3
   },
   "file_extension": ".py",
   "mimetype": "text/x-python",
   "name": "python",
   "nbconvert_exporter": "python",
   "pygments_lexer": "ipython3",
   "version": "3.12.7"
  }
 },
 "nbformat": 4,
 "nbformat_minor": 5
}
