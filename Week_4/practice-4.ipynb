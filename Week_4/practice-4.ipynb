{
 "cells": [
  {
   "cell_type": "markdown",
   "id": "f1f11d0c-5e3a-42d2-8578-5516970d19c6",
   "metadata": {},
   "source": [
    "## Laplacian Operation"
   ]
  },
  {
   "cell_type": "code",
   "execution_count": null,
   "id": "666498e1-a49c-4204-a2e4-85fc0b2053fa",
   "metadata": {},
   "outputs": [],
   "source": [
    "import cv2\n",
    "import numpy as np"
   ]
  },
  {
   "cell_type": "code",
   "execution_count": null,
   "id": "d787f0f3-9906-409f-af6c-31722fd6383a",
   "metadata": {},
   "outputs": [],
   "source": [
    "#Load the image\n",
    "image = cv2.imread('img/Chima.jpg', cv2.IMREAD_GRAYSCALE)\n",
    "\n",
    "#Resize Images\n",
    "image = cv2.resize(image, (400, 400))\n",
    "\n",
    "#Apply Laplacian Edge detection\n",
    "laplacian = cv2.Laplacian(image, cv2.CV_64F)\n",
    "\n",
    "#Convert the output to an 8-bit image\n",
    "laplacian = cv2.convertScaleAbs(laplacian)\n",
    "\n",
    "#Display the original image and the Prewitt Edges\n",
    "cv2.imshow('Original', image)\n",
    "cv2.imshow('Laplacian Edges', laplacian)\n",
    "\n",
    "#Wait for a key press and then close all windows\n",
    "cv2.waitKey(0)\n",
    "cv2.destroyAllWindows()"
   ]
  }
 ],
 "metadata": {
  "kernelspec": {
   "display_name": "Python 3 (ipykernel)",
   "language": "python",
   "name": "python3"
  },
  "language_info": {
   "codemirror_mode": {
    "name": "ipython",
    "version": 3
   },
   "file_extension": ".py",
   "mimetype": "text/x-python",
   "name": "python",
   "nbconvert_exporter": "python",
   "pygments_lexer": "ipython3",
   "version": "3.12.7"
  }
 },
 "nbformat": 4,
 "nbformat_minor": 5
}
