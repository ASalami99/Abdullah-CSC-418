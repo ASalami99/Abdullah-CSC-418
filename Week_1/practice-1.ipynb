{
 "cells": [
  {
   "cell_type": "code",
   "execution_count": null,
   "id": "90d7e350-3578-4ad8-8501-afceb9c97b23",
   "metadata": {},
   "outputs": [],
   "source": [
    "#Importing the OpenCV library\n",
    "import cv2\n",
    "\n",
    "#path\n",
    "path = 'img/lagos.jpeg'\n",
    "\n",
    "#Reading the image using imread() function\n",
    "img = cv2.imread(path)\n",
    "\n",
    "#Window name in which the image is displayed\n",
    "window_name = 'Display Image'\n",
    "\n",
    "#Display image\n",
    "cv2.imshow(window_name, img)\n",
    "\n",
    "#Hold  the window\n",
    "cv2.waitKey(0)\n",
    "\n",
    "#Remove/delete created GUI window from screen and memory\n",
    "cv2.destroyAllWindows()"
   ]
  },
  {
   "cell_type": "code",
   "execution_count": null,
   "id": "7dbb77f2-1ca1-4622-b11c-2fde1181af4e",
   "metadata": {},
   "outputs": [],
   "source": []
  }
 ],
 "metadata": {
  "kernelspec": {
   "display_name": "Python 3 (ipykernel)",
   "language": "python",
   "name": "python3"
  },
  "language_info": {
   "codemirror_mode": {
    "name": "ipython",
    "version": 3
   },
   "file_extension": ".py",
   "mimetype": "text/x-python",
   "name": "python",
   "nbconvert_exporter": "python",
   "pygments_lexer": "ipython3",
   "version": "3.12.7"
  }
 },
 "nbformat": 4,
 "nbformat_minor": 5
}
