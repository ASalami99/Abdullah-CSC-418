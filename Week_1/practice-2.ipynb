{
 "cells": [
  {
   "cell_type": "code",
   "execution_count": null,
   "id": "b3cf56dc-cab3-442e-8ecb-fd292b240302",
   "metadata": {},
   "outputs": [],
   "source": [
    "#Importing the OpenCV library\n",
    "import cv2\n",
    "\n",
    "#path\n",
    "path = 'img/riley.jpg'\n",
    "\n",
    "#Reading an image in greyscale\n",
    "img = cv2.imread(path, 0)\n",
    "\n",
    "#Window name in which the image is displayed\n",
    "window_name = 'Riley the Entrepreneur'\n",
    "\n",
    "#Display Image\n",
    "cv2.imshow(window_name, img)\n",
    "\n",
    "#Hold the window\n",
    "cv2.waitKey(0)\n",
    "\n",
    "#Remove/delete created GUI from screen and memory\n",
    "cv2.destroyAllWindows()"
   ]
  }
 ],
 "metadata": {
  "kernelspec": {
   "display_name": "Python 3 (ipykernel)",
   "language": "python",
   "name": "python3"
  },
  "language_info": {
   "codemirror_mode": {
    "name": "ipython",
    "version": 3
   },
   "file_extension": ".py",
   "mimetype": "text/x-python",
   "name": "python",
   "nbconvert_exporter": "python",
   "pygments_lexer": "ipython3",
   "version": "3.12.7"
  }
 },
 "nbformat": 4,
 "nbformat_minor": 5
}
