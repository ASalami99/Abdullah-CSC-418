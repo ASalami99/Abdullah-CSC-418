{
 "cells": [
  {
   "cell_type": "code",
   "execution_count": 2,
   "id": "47661029-2c8f-4d40-abed-b0118dccf58d",
   "metadata": {},
   "outputs": [
    {
     "name": "stdout",
     "output_type": "stream",
     "text": [
      "Before saving image:\n",
      "['lagos.jpeg', 'riley.jpg']\n",
      "After saving image:\n",
      "['grayImage.jpeg', 'lagos.jpeg', 'riley.jpg']\n",
      "Successfully saved!\n"
     ]
    }
   ],
   "source": [
    "#Python program to explain cv2.imwrite() method\n",
    "\n",
    "#importing cv2\n",
    "import cv2\n",
    "\n",
    "#importing OS module\n",
    "import os\n",
    "\n",
    "#Image path\n",
    "image_path = r'C:\\Users\\abdul\\Desktop\\School\\Year 4\\Year 4 Semester 2\\CSC 418\\Abdullah-CSC-418\\Week_1\\img\\riley.jpg'\n",
    "\n",
    "#Image directory\n",
    "directory = r'C:\\Users\\abdul\\Desktop\\School\\Year 4\\Year 4 Semester 2\\CSC 418\\Abdullah-CSC-418\\Week_1\\img'\n",
    "\n",
    "#Using cv2.imread() method to read the image\n",
    "img = cv2.imread(image_path, 0)\n",
    "\n",
    "#Change the current directory to the specified directory\n",
    "os.chdir(directory)\n",
    "\n",
    "#List files and their directories\n",
    "print(\"Before saving image:\")\n",
    "print(os.listdir(directory))\n",
    "\n",
    "#Filename\n",
    "filename = 'grayImage.jpeg'\n",
    "\n",
    "#Using cv2.imread() method to save the image\n",
    "cv2.imwrite(filename, img)\n",
    "\n",
    "#List files and their directories\n",
    "print(\"After saving image:\")\n",
    "print(os.listdir(directory))\n",
    "\n",
    "print(\"Successfully saved!\")"
   ]
  },
  {
   "cell_type": "code",
   "execution_count": null,
   "id": "91de5421-fbfd-44ef-8e0e-1d30993ddbf0",
   "metadata": {},
   "outputs": [],
   "source": []
  }
 ],
 "metadata": {
  "kernelspec": {
   "display_name": "Python 3 (ipykernel)",
   "language": "python",
   "name": "python3"
  },
  "language_info": {
   "codemirror_mode": {
    "name": "ipython",
    "version": 3
   },
   "file_extension": ".py",
   "mimetype": "text/x-python",
   "name": "python",
   "nbconvert_exporter": "python",
   "pygments_lexer": "ipython3",
   "version": "3.12.7"
  }
 },
 "nbformat": 4,
 "nbformat_minor": 5
}
