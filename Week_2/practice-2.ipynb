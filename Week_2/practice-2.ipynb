{
 "cells": [
  {
   "cell_type": "markdown",
   "id": "955752b2-cc9e-426f-ad55-5fccf1b305dd",
   "metadata": {},
   "source": [
    "## Arithmetic Operations on Images"
   ]
  },
  {
   "cell_type": "code",
   "execution_count": null,
   "id": "088ccb0c-b40d-49c3-9ea4-e1fed7f3599a",
   "metadata": {},
   "outputs": [],
   "source": [
    "#Program to illustrate the arithmetic operations of addition\n",
    "\n",
    "#Organizing imports\n",
    "import cv2\n",
    "\n",
    "#path to input images\n",
    "image1 = cv2.imread('img/sst.jpg')\n",
    "image2 = cv2.imread('img/sst-foyer.jpg')\n",
    "\n",
    "#Resize images\n",
    "image1 = cv2.resize(image1, (500,400))\n",
    "image2 = cv2.resize(image2, (500,400))\n",
    "\n",
    "#cv2.addedWeighted with applied parameters\n",
    "addImage = cv2.addWeighted(image1, 0.5, image2, 0.6, 0)\n",
    "\n",
    "#Subtraction\n",
    "#sub = cv2.subtract(image1, image2)\n",
    "\n",
    "#Window showing output image\n",
    "cv2.imshow('Weighted Image', addImage)\n",
    "\n",
    "#De-allocate any associated memory usage\n",
    "if cv2.waitKey(0) & 0xff == 27:\n",
    "    cv2.destroyAllWindows()"
   ]
  },
  {
   "cell_type": "code",
   "execution_count": null,
   "id": "1727b4f4-95f7-4dfc-9170-d0fc1e764ab4",
   "metadata": {},
   "outputs": [],
   "source": []
  }
 ],
 "metadata": {
  "kernelspec": {
   "display_name": "Python 3 (ipykernel)",
   "language": "python",
   "name": "python3"
  },
  "language_info": {
   "codemirror_mode": {
    "name": "ipython",
    "version": 3
   },
   "file_extension": ".py",
   "mimetype": "text/x-python",
   "name": "python",
   "nbconvert_exporter": "python",
   "pygments_lexer": "ipython3",
   "version": "3.12.7"
  }
 },
 "nbformat": 4,
 "nbformat_minor": 5
}
