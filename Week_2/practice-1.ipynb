{
 "cells": [
  {
   "cell_type": "markdown",
   "id": "cc19b03c-c46c-4cec-a45d-da237bdd789b",
   "metadata": {},
   "source": [
    "## Visualizing Colour Spaces"
   ]
  },
  {
   "cell_type": "code",
   "execution_count": null,
   "id": "4d54cc06-8ccc-42dc-9ce7-9d688acd0031",
   "metadata": {},
   "outputs": [],
   "source": [
    "import cv2\n",
    "\n",
    "image = cv2.imread('img/RGB-color-model.webp')\n",
    "\n",
    "#The split method separates the color spaces\n",
    "B, G, R = cv2.split(image)\n",
    "\n",
    "#Corresponding channels are separated\n",
    "cv2.imshow(\"original\", image)\n",
    "cv2.waitKey(0)\n",
    "\n",
    "cv2.imshow(\"blue\", B)\n",
    "cv2.waitKey(0)\n",
    "\n",
    "cv2.imshow(\"Green\", G)\n",
    "cv2.waitKey(0)\n",
    "\n",
    "cv2.imshow(\"Red\", R)\n",
    "cv2.waitKey(0)\n",
    "\n",
    "cv2.destroyAllWindows()"
   ]
  },
  {
   "cell_type": "code",
   "execution_count": null,
   "id": "a78d79b7-79e8-438a-8dd3-4f39a1c25ec0",
   "metadata": {},
   "outputs": [],
   "source": []
  }
 ],
 "metadata": {
  "kernelspec": {
   "display_name": "Python 3 (ipykernel)",
   "language": "python",
   "name": "python3"
  },
  "language_info": {
   "codemirror_mode": {
    "name": "ipython",
    "version": 3
   },
   "file_extension": ".py",
   "mimetype": "text/x-python",
   "name": "python",
   "nbconvert_exporter": "python",
   "pygments_lexer": "ipython3",
   "version": "3.12.7"
  }
 },
 "nbformat": 4,
 "nbformat_minor": 5
}
