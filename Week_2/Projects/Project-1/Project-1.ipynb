{
 "cells": [
  {
   "cell_type": "code",
   "execution_count": 1,
   "id": "fb7f81d5-772d-4ab5-a3fb-1dd925f12a74",
   "metadata": {},
   "outputs": [],
   "source": [
    "#Importing necessary libraries\n",
    "import cv2"
   ]
  },
  {
   "cell_type": "code",
   "execution_count": null,
   "id": "eb313941-0830-4643-b568-fa385ca151eb",
   "metadata": {},
   "outputs": [
    {
     "name": "stdin",
     "output_type": "stream",
     "text": [
      "Username:  sola\n",
      "Password:  3\n"
     ]
    },
    {
     "name": "stdout",
     "output_type": "stream",
     "text": [
      "Welcome,  Sola\n"
     ]
    }
   ],
   "source": [
    "# Dictionary storing user details\n",
    "umc_profiles = {\n",
    "    \"Enase\": {\"surname\": \"Okonedo\", \"image\": \"img/enase-okonedo.jpg\"},\n",
    "    \"Chris\": {\"surname\": \"Ogbechie\", \"image\": \"img/Prof-Chris-Ogbechie.jpg\"},\n",
    "    \"Ikechukwu1\": {\"surname\": \"Ogbuike\", \"image\": \"img/Ikechukwu-Don-Ogbuike.png\"},\n",
    "    \"Ikechukwu2\": {\"surname\": \"Obiaya\", \"image\": \"img/Dr-obiaya.jpg\"},\n",
    "    \"Sola\": {\"surname\": \"Oni\", \"image\": \"img/Sola-Oni.jpg\"},\n",
    "    \"Darlington\": {\"surname\": \"Agholor\", \"image\": \"img/Darlington-Agbholor.jpg\"},\n",
    "    \"Nneka\": {\"surname\": \"Okekearu\", \"image\": \"img/NNEKA-Okekearu.png\"},\n",
    "    \"Adaora\": {\"surname\": \"Onaga\", \"image\": \"img/Dr.-Onaga.jpg\"},\n",
    "    \"Peter\": {\"surname\": \"Bamkole\", \"image\": \"img/dr-peter-bamkole.jpg\"},\n",
    "}\n",
    "\n",
    "# Function to validate and display user details\n",
    "def validate_user():\n",
    "    while True:  # loop until user inputs correct login details\n",
    "        # Collect user details\n",
    "        username = input(\"Username: \").strip().capitalize()\n",
    "        password = input(\"Password: \").strip()\n",
    "\n",
    "        if username in umc_profiles:\n",
    "            expected_password = str(len(umc_profiles[username][\"surname\"]))\n",
    "            if password == expected_password:\n",
    "                image_path = umc_profiles[username][\"image\"]\n",
    "                image = cv2.imread(image_path)\n",
    "\n",
    "                print(\"Welcome, \", username)\n",
    "                cv2.imshow(username, image)\n",
    "                cv2.waitKey(0)\n",
    "                cv2.destroyAllWindows()\n",
    "\n",
    "                print(f\"✅ Login successful! Welcome, {username}.\")\n",
    "                break  # Exit loop after successful login\n",
    "            else:\n",
    "                print(\"WRONG password!!! Please try again.\")\n",
    "        else:\n",
    "            print(\"WRONG username. Please try again.\")\n",
    "\n",
    "# Calling the function\n",
    "validate_user()\n"
   ]
  },
  {
   "cell_type": "code",
   "execution_count": null,
   "id": "0417d56c-cbd3-4dfb-8a89-78c2dc3caee8",
   "metadata": {},
   "outputs": [],
   "source": []
  }
 ],
 "metadata": {
  "kernelspec": {
   "display_name": "Python 3 (ipykernel)",
   "language": "python",
   "name": "python3"
  },
  "language_info": {
   "codemirror_mode": {
    "name": "ipython",
    "version": 3
   },
   "file_extension": ".py",
   "mimetype": "text/x-python",
   "name": "python",
   "nbconvert_exporter": "python",
   "pygments_lexer": "ipython3",
   "version": "3.12.7"
  }
 },
 "nbformat": 4,
 "nbformat_minor": 5
}
